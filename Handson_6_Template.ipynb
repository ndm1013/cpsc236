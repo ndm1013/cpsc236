{
 "cells": [
  {
   "cell_type": "markdown",
   "metadata": {},
   "source": [
    "# Dictionaries\n",
    "\n",
    "To submit this assignment in D2l, post the link to your notebook file on your GitHub account."
   ]
  },
  {
   "cell_type": "markdown",
   "metadata": {},
   "source": [
    "## 12.1 Champion Counter\n",
    "Create a program that reads a text file that contains a list of FIFA World Cup champions and determines the country that has won the most championships.\n",
    "\n",
    "### Console:\n",
    "```powershell\n",
    "Country\t        Wins\tYears\t\n",
    "=======\t        ====\t=====\t\n",
    "Argentina       2       1978, 1986\n",
    "Brazil\t        5       1958, 1962, 1970, 1994, 2002\n",
    "England\t        1       1966\t\t\n",
    "France\t        1       1998\t\t\n",
    "Germany\t        4       1954, 1974, 1990, 2014\n",
    "Italy\t        4       1934, 1938, 1982, 2006\n",
    "Spain\t        1       2010\n",
    "Uruguay\t        2       1930, 1950\n",
    "```\n",
    "\n",
    "### Specifications:\n",
    "- Use the attached text file named `world_cup_champions.txt` that contains data like this: \n",
    "```powershell\n",
    "Year,Country,Coach,Captain \n",
    "1930,Uruguay,Alberto Suppici,José Nasazzi \n",
    "1934,Italy,Vittorio Pozzo,Gianpiero Combi \n",
    "1938,Italy,Vittorio Pozzo,Giuseppe Meazza\n",
    "...\n",
    "```\n",
    "- When the program starts, it should read the text file and use a dictionary to store the required data using the name of each country that has won the World Cup as the key.\n",
    "- The program should compile the data shown above and display the countries alphabetically.\n",
    "\n"
   ]
  },
  {
   "cell_type": "code",
   "execution_count": 53,
   "metadata": {},
   "outputs": [
    {
     "name": "stdout",
     "output_type": "stream",
     "text": [
      "Country        Wins    Years\n",
      "=======        ====     =====\n",
      "Argentina      2       1978, 1986\n",
      "Brazil         5       1958, 1962, 1970, 1994, 2002\n",
      "England        1       1966\n",
      "France         1       1998\n",
      "Germany        4       1954, 1974, 1990, 2014\n",
      "Italy          4       1934, 1938, 1982, 2006\n",
      "Spain          1       2010\n",
      "Uruguay        2       1930, 1950\n"
     ]
    }
   ],
   "source": [
    "### CODE HERE ###\n",
    "def display():\n",
    "    print(f\"{'Country':<15}{'Wins':<8}{'Years'}\")\n",
    "    print(f\"{'=======':<15}{'====':<8} {'====='}\")\n",
    "\n",
    "def main():\n",
    "    data = []\n",
    "    \n",
    "    with open(r\"C:\\Users\\nm161\\Downloads\\world_cup_champions.txt\") as file:\n",
    "        text = file.read()\n",
    "        clean_copy = text.strip().split(\"\\n\") #splits the lines into info with year, country, coach, and captain\n",
    "        \n",
    "    for i in clean_copy[1:]:\n",
    "        split_items = i.strip().split(\",\") #splits the lines with info year, country, coach, and captain into their own items of the list\n",
    "        country = split_items[1]\n",
    "        year = split_items[0]\n",
    "        data.append([country, year])\n",
    "\n",
    "    data.sort()\n",
    "    \n",
    "    teams = {}\n",
    "    for country, year in data:\n",
    "        if country not in teams:\n",
    "            teams[country] = [year]\n",
    "        else:  \n",
    "            teams[country].append(year)\n",
    "\n",
    "    display()\n",
    "    for item in teams:\n",
    "        wins = len(teams[item])\n",
    "        years = \", \" .join(teams[item])\n",
    "        print(f\"{item:<15}{wins:<8}{years}\")\n",
    "        \n",
    "\n",
    "if __name__ == \"__main__\":\n",
    "    main()\n",
    "\n",
    "\n"
   ]
  },
  {
   "cell_type": "markdown",
   "metadata": {},
   "source": [
    "## 12.2 Monthly Sales\n",
    "Create a program that allows you to view and edit the sales amounts for each month of the current year.\n",
    "\n",
    "### Console:\n",
    "```powershell\n",
    "Monthly Sales program\n",
    "\n",
    "COMMAND MENU\n",
    "view\t- View sales for specified month \n",
    "edit\t- Edit sales for specified month \n",
    "totals - View sales summary for year \n",
    "exit\t- Exit program\n",
    "\n",
    "Command: view\n",
    "Three-letter Month: jan\n",
    "Sales amount for Jan is 14,317.00.\n",
    "\n",
    "Command: edit\n",
    "Three-letter Month: jan \n",
    "Sales Amount: 15293\n",
    "Sales amount for Jan is 15,293.00.\n",
    "\n",
    "Command: totals\n",
    "Yearly total: 67,855.00\n",
    "Monthly average: 5,654.58\n",
    "\n",
    "Command: view\n",
    "Three-letter Month: july \n",
    "Invalid three-letter month.\n",
    "\n",
    "Command: exit Bye!\n",
    "```\n",
    "\n",
    "### Specifications:\n",
    "- Use the attached text file named `monthly_sales.txt` that consists of rows that contain three-letter abbreviations for the month and the monthly sales.\n",
    "- The program should read the file and store the sales data for each month in a dictionary with the month abbreviation as the key for each item.\n",
    "- Whenever the sales data is edited, the program should write the changed data to the text file.\n",
    "\n",
    "\n"
   ]
  },
  {
   "cell_type": "code",
   "execution_count": 218,
   "metadata": {},
   "outputs": [
    {
     "name": "stdout",
     "output_type": "stream",
     "text": [
      "Monthly Sales Program\n",
      "\n",
      "COMMAND MENU\n",
      "view - View sales for specified month\n",
      "edit    - Edit sales for specified month\n",
      "totals  - View sales summary for the year\n",
      "exit    - Exit program\n"
     ]
    },
    {
     "name": "stdin",
     "output_type": "stream",
     "text": [
      "\n",
      "Command:  view\n",
      "Three letter month: jan\n"
     ]
    },
    {
     "name": "stdout",
     "output_type": "stream",
     "text": [
      "Sales amount for Jan  is 14317.0\n"
     ]
    },
    {
     "name": "stdin",
     "output_type": "stream",
     "text": [
      "\n",
      "Command:  edit\n",
      "Three letter month: jan\n",
      "Sales amount: 15293\n"
     ]
    },
    {
     "name": "stdout",
     "output_type": "stream",
     "text": [
      "Sales amount for Jan is  15293.0\n"
     ]
    },
    {
     "name": "stdin",
     "output_type": "stream",
     "text": [
      "\n",
      "Command:  totals\n"
     ]
    },
    {
     "name": "stdout",
     "output_type": "stream",
     "text": [
      "Yearly total: 67855.0\n",
      "Monthly Average: 5654.58\n"
     ]
    },
    {
     "name": "stdin",
     "output_type": "stream",
     "text": [
      "\n",
      "Command:  view\n",
      "Three letter month: july\n"
     ]
    },
    {
     "name": "stdout",
     "output_type": "stream",
     "text": [
      "Invalid three letter month\n"
     ]
    },
    {
     "name": "stdin",
     "output_type": "stream",
     "text": [
      "\n",
      "Command:  exit\n"
     ]
    },
    {
     "name": "stdout",
     "output_type": "stream",
     "text": [
      "Bye!\n"
     ]
    }
   ],
   "source": [
    "### CODE HERE ###\n",
    "\n",
    "FILEPATH = r\"C:\\Users\\nm161\\Downloads\\monthly_sales.txt\"\n",
    "\n",
    "def display_menu():\n",
    "        \n",
    "    print(\"Monthly Sales Program\\n\")\n",
    "    print(\"COMMAND MENU\")\n",
    "    print(\"view - View sales for specified month\")\n",
    "    print(\"edit    - Edit sales for specified month\")\n",
    "    print(\"totals  - View sales summary for the year\")\n",
    "    print(\"exit    - Exit program\")\n",
    "\n",
    "\n",
    "def save_to_list(Sales):\n",
    "    sales_list = []\n",
    "    with open(FILEPATH, \"r\") as file:\n",
    "        for line in file:\n",
    "            parts = line.strip().split()  # splits on any whitespace (space or tab) on the line\n",
    "            month = parts[0].capitalize()\n",
    "            value = float(parts[1])\n",
    "            sales_list.append([month, value])\n",
    "            Sales[month] = value\n",
    "        return Sales\n",
    "\n",
    "\n",
    "def view(Sales):\n",
    "    user = input(\"Three letter month:\").capitalize()\n",
    "    if user in Sales:\n",
    "        print(\"Sales amount for\", user, \" is\", Sales[user])\n",
    "    else:\n",
    "        print(\"Invalid three letter month\")\n",
    "\n",
    "\n",
    "def edit(Sales):\n",
    "    user = input(\"Three letter month:\").capitalize()\n",
    "    if user in Sales:\n",
    "        new_amt = float(input(\"Sales amount:\"))\n",
    "        Sales[user] = new_amt\n",
    "\n",
    "        with open(FILEPATH, \"w\") as file:\n",
    "            for month, value in Sales.items():\n",
    "                file.write(f\"{month} {value}\\n\")\n",
    "            print(\"Sales amount for\", user, \"is \", new_amt)\n",
    "    else:\n",
    "        print(\"Invalid three letter month\")\n",
    "\n",
    "\n",
    "def totals(Sales):\n",
    "    yearly_total = 0\n",
    "    for value in Sales.values():\n",
    "        yearly_total += value\n",
    "    monthly_average = yearly_total / 12\n",
    "    print(\"Yearly total:\", yearly_total)\n",
    "    print(\"Monthly Average:\", round(monthly_average,2))\n",
    "\n",
    "\n",
    "def main():\n",
    "    \n",
    "    Sales = {}\n",
    "    save_to_list(Sales)\n",
    "    display_menu()\n",
    "    \n",
    "    command = \"continue\"\n",
    "    while command != \"exit\":\n",
    "        command = input(\"\\nCommand: \").lower()\n",
    "        \n",
    "        if command == \"view\":\n",
    "            view(Sales)\n",
    "        elif command == \"edit\":\n",
    "            edit(Sales)\n",
    "        elif command == \"totals\":\n",
    "            totals(Sales)\n",
    "        elif command == \"exit\":\n",
    "            print(\"Bye!\")\n",
    "            break\n",
    "        else:\n",
    "            print(\"Invalid Input. Please try again.\")\n",
    "\n",
    "if __name__ == \"__main__\":\n",
    "    main()"
   ]
  }
 ],
 "metadata": {
  "kernelspec": {
   "display_name": "Python [conda env:base] *",
   "language": "python",
   "name": "conda-base-py"
  },
  "language_info": {
   "codemirror_mode": {
    "name": "ipython",
    "version": 3
   },
   "file_extension": ".py",
   "mimetype": "text/x-python",
   "name": "python",
   "nbconvert_exporter": "python",
   "pygments_lexer": "ipython3",
   "version": "3.12.7"
  }
 },
 "nbformat": 4,
 "nbformat_minor": 4
}
