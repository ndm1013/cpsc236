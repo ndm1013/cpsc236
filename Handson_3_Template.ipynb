{
 "cells": [
  {
   "cell_type": "markdown",
   "metadata": {},
   "source": [
    "# Functions\n",
    "\n",
    "To submit this assignment in D2l, post the link to your notebook file on your GitHub account."
   ]
  },
  {
   "cell_type": "markdown",
   "metadata": {},
   "source": [
    "## 4.1 Even or Odd Checker\n",
    "Create a program that checks whether a number is even or odd.\n",
    "\n",
    "### Console:\n",
    "```powershell\n",
    "Even or Odd Checker\n",
    "\n",
    "Enter an integer: 33\n",
    "This is an odd number.\n",
    "```\n",
    "\n",
    "### Specifications:\n",
    "- Store the code that gets user input and displays output in the main function.\n",
    "- Store the code that checks whether the number is even or odd in a separate function.\n",
    "- Assume that the user will enter a valid integer.\n"
   ]
  },
  {
   "cell_type": "code",
   "execution_count": 31,
   "metadata": {},
   "outputs": [
    {
     "name": "stdin",
     "output_type": "stream",
     "text": [
      "Enter a number: 33\n"
     ]
    },
    {
     "name": "stdout",
     "output_type": "stream",
     "text": [
      "This is an odd number.\n"
     ]
    }
   ],
   "source": [
    "### CODE HERE ###\n",
    "def checker(num):\n",
    "    if num % 2 == 0:\n",
    "        return \"This is an even number.\"\n",
    "    else:\n",
    "        return \"This is an odd number.\"\n",
    "\n",
    "def main():\n",
    "    user = int(input(\"Enter a number:\"))\n",
    "    print(checker(user))\n",
    "    \n",
    "\n",
    "if __name__ == \"__main__\":\n",
    "    main()"
   ]
  },
  {
   "cell_type": "markdown",
   "metadata": {},
   "source": [
    "## 4.2 - Feet and Meters Converter\n",
    "Create a program that converts feet to meters and vice versa.\n",
    "\n",
    "### Console\n",
    "```powershell\n",
    "Feet and Meters Converter\n",
    "\n",
    "Conversions Menu:\n",
    "a.\tFeet to Meters\n",
    "b.\tMeters to Feet\n",
    "Select a conversion (a/b): a\n",
    "\n",
    "Enter feet: 100\n",
    "30.48 meters\n",
    "\n",
    "Would you like to perform another conversion? (y/n): y \n",
    "\n",
    "Conversions Menu:\n",
    "a.\tFeet to Meters\n",
    "b.\tMeters to Feet\n",
    "Select a conversion (a/b): b\n",
    "\n",
    "Enter meters: 100\n",
    "328.08 feet\n",
    "\n",
    "Would you like to perform another conversion? (y/n): n\n",
    "\n",
    "Thanks, bye!\n",
    "```\n",
    "\n",
    "### Specifications:\n",
    "- The formula for converting feet to meters is:\n",
    "`feet = meters / 0.3048`\n",
    "\n",
    "- The formula for converting meters to feet is:\n",
    "`meters = feet * 0.3048`\n",
    "\n",
    "- Store the code that performs the conversions in functions within a module. For example, store the code that converts feet to meters in a function in a module.\n",
    "- Store the code that displays the title in its own function, and store the code that displays the menu in its own function, but store the rest of the code that gets input and displays output in a main function.\n",
    "- Assume the user will enter valid data.\n",
    "- The program should round results to a maximum of two decimal places.\n",
    "\n",
    "\n"
   ]
  },
  {
   "cell_type": "code",
   "execution_count": 5,
   "metadata": {},
   "outputs": [
    {
     "name": "stdout",
     "output_type": "stream",
     "text": [
      "Feet and Meters Converter\n",
      "\n",
      "Conversions Menu\n",
      "a.\tFeet to Meters\n",
      "b.\tMeters to Feet\n"
     ]
    },
    {
     "name": "stdin",
     "output_type": "stream",
     "text": [
      "Select a conversion (a/b): a\n",
      "Enter feet: 100\n"
     ]
    },
    {
     "name": "stdout",
     "output_type": "stream",
     "text": [
      "30.48 meters\n"
     ]
    },
    {
     "name": "stdin",
     "output_type": "stream",
     "text": [
      "Would you like to perform another conversion? (y/n): y\n",
      "Select a conversion (a/b): b\n",
      "Enter meters: 100\n"
     ]
    },
    {
     "name": "stdout",
     "output_type": "stream",
     "text": [
      "328.08 feet\n"
     ]
    },
    {
     "name": "stdin",
     "output_type": "stream",
     "text": [
      "Would you like to perform another conversion? (y/n): n\n"
     ]
    },
    {
     "name": "stdout",
     "output_type": "stream",
     "text": [
      "Thanks, bye!\n"
     ]
    }
   ],
   "source": [
    "### CODE HERE ###\n",
    "import h1\n",
    "\n",
    "def main():\n",
    "    h1.title()\n",
    "    h1.menu()\n",
    "    continue1 = 'y'\n",
    "    \n",
    "    while continue1 == 'y':\n",
    "        selection = input(\"Select a conversion (a/b):\")\n",
    "        if selection == 'a':\n",
    "            feet = int(input(\"Enter feet:\"))\n",
    "            meters = feet * 0.3048\n",
    "            print(round(meters,2), \"meters\")\n",
    "        elif selection == 'b':\n",
    "            meters = int(input(\"Enter meters:\"))\n",
    "            feet = meters / 0.3048\n",
    "            print(round(feet,2), \"feet\")\n",
    "            \n",
    "        continue1 = input(\"Would you like to perform another conversion? (y/n):\")\n",
    "\n",
    "    print(\"Thanks, bye!\")\n",
    "                   \n",
    "\n",
    "if __name__ == \"__main__\":\n",
    "    main()"
   ]
  },
  {
   "cell_type": "markdown",
   "metadata": {},
   "source": [
    "## 4.3 - Sales Tax Calculator\n",
    "Create a program that uses a separate module to calculate sales tax and total after tax.\n",
    "\n",
    "### Console\n",
    "```powershell\n",
    "Sales Tax Calculator\n",
    "\n",
    "ENTER ITEMS (ENTER 0 TO END)\n",
    "Cost of item: 35.99 \n",
    "Cost of item: 27.50 \n",
    "Cost of item: 19.59 \n",
    "Cost of item: 0 \n",
    "Total:  83.08\n",
    "Sales tax:\t4.98\n",
    "Total after tax: 88.06 \n",
    "\n",
    "Again? (y/n): y\n",
    "\n",
    "ENTER ITEMS (ENTER 0 TO END)\n",
    "Cost of item: 152.50 \n",
    "Cost of item: 59.80 \n",
    "Cost of item: 0\n",
    "Total:  212.3\n",
    "Sales tax:\t12.74\n",
    "Total after tax: 225.04 \n",
    "\n",
    "Again? (y/n): n\n",
    "\n",
    "Thanks, bye!\n",
    "\n",
    "```\n",
    "\n",
    "### Specifications\n",
    "- The sales tax rate should be 6% of the total.\n",
    "- Store the sales tax rate in a module. This module should also contain functions that calculate the sales tax and the total after tax. These functions should round the results to a maximum of two decimal places. Upload the seperate sales tax module to your GitHub repo when submitting.\n",
    "- Store the code that gets input and displays output in this notebook. Divide this code into functions wherever you think it would make that code easier to read and maintain.\n",
    "- Assume the user will enter valid data.\n",
    "\n"
   ]
  },
  {
   "cell_type": "code",
   "execution_count": 60,
   "metadata": {},
   "outputs": [
    {
     "name": "stdout",
     "output_type": "stream",
     "text": [
      "Sales Tax Calculator\n",
      "\n",
      "ENTER ITEMS (ENTER 0 TO END)\n"
     ]
    },
    {
     "name": "stdin",
     "output_type": "stream",
     "text": [
      "Cost of item: 20\n",
      "Cost of item: 30\n",
      "Cost of item: 10\n",
      "Cost of item: 0\n"
     ]
    },
    {
     "name": "stdout",
     "output_type": "stream",
     "text": [
      "Total: 60.0\n",
      "Sales Tax: 3.6\n",
      "Total after tax: 63.6\n",
      "\n"
     ]
    },
    {
     "name": "stdin",
     "output_type": "stream",
     "text": [
      "Again? (y/n): Y\n"
     ]
    },
    {
     "name": "stdout",
     "output_type": "stream",
     "text": [
      "\n"
     ]
    },
    {
     "name": "stdin",
     "output_type": "stream",
     "text": [
      "Cost of item: 100\n",
      "Cost of item: 20\n",
      "Cost of item: 15\n",
      "Cost of item: 0\n"
     ]
    },
    {
     "name": "stdout",
     "output_type": "stream",
     "text": [
      "Total: 135.0\n",
      "Sales Tax: 8.1\n",
      "Total after tax: 143.1\n",
      "\n"
     ]
    },
    {
     "name": "stdin",
     "output_type": "stream",
     "text": [
      "Again? (y/n): n\n"
     ]
    },
    {
     "name": "stdout",
     "output_type": "stream",
     "text": [
      "\n",
      "Thanks, bye!\n"
     ]
    }
   ],
   "source": [
    "##### CODE HERE ###\n",
    "import h2\n",
    "\n",
    "def main():\n",
    "    \n",
    "    print(\"Sales Tax Calculator\")\n",
    "    print()\n",
    "    print(\"ENTER ITEMS (ENTER 0 TO END)\")\n",
    "    \n",
    "    user = 'y'\n",
    "    \n",
    "    while user.lower() == 'y':\n",
    "        sum = 0\n",
    "        while user != 0:\n",
    "            user = float(input(\"Cost of item:\"))\n",
    "            sum += user\n",
    "        print(\"Total:\", sum)\t\n",
    "\n",
    "        # s_tax = 0\n",
    "        s_tax = h2.sales_tax(sum)\n",
    "        total = h2.total_cost(sum, s_tax)\n",
    "        print(\"Sales Tax:\", round(s_tax, 2))\n",
    "        print(\"Total after tax:\", round(total, 2))\n",
    "        print()\n",
    "        user = input(\"Again? (y/n):\")\n",
    "        print()\n",
    "    print(\"Thanks, bye!\")\n",
    "\n",
    "\n",
    "if __name__ == \"__main__\":\n",
    "    main()"
   ]
  },
  {
   "cell_type": "markdown",
   "metadata": {},
   "source": [
    "## 4.4 - Prime Number Checker\n",
    "Create a program that checks whether a number is a prime number and displays the total number of factors if it is not a prime number.\n",
    "\n",
    "### Console\n",
    "```powershell\n",
    "Prime Number Checker\n",
    "\n",
    "Please enter an integer between 1 and 5000: 1 \n",
    "Invalid integer. Please try again.\n",
    "Please enter an integer between 1 and 5000: 2\n",
    "2 is a prime number. \n",
    "\n",
    "Try again? (y/n): y\n",
    "\n",
    "Please enter an integer between 1 and 5000: 3\n",
    "3 is a prime number.\n",
    "\n",
    "Try again? (y/n): y\n",
    "\n",
    "Please enter an integer between 1 and 5000: 4\n",
    "4 is NOT a prime number.\n",
    "It has 3 factors.\n",
    "\n",
    "Try again? (y/n): y\n",
    "\n",
    "Please enter an integer between 1 and 5000: 6\n",
    "6 is NOT a prime number.\n",
    "It has 4 factors.\n",
    "\n",
    "Try again? (y/n): n\n",
    "\n",
    "Bye!\n",
    "```\n",
    "\n",
    "### Specifications\n",
    "- A prime number is only divisible by two factors (1 and itself). For example, 7 is a prime number because it is only divisible by 1 and 7.\n",
    "- If the number is not a prime number, the program should display its number of factors. For example, 6 has four factors (1, 2, 3, and 6).\n",
    "- Store the code that gets a valid integer for this program in its own function.\n",
    "- Store the code that calculates the number of factors for a number in its own function.\n",
    "- Store the rest of the code that gets input and displays output in the main function.\n",
    "\n"
   ]
  },
  {
   "cell_type": "code",
   "execution_count": null,
   "metadata": {},
   "outputs": [
    {
     "name": "stdout",
     "output_type": "stream",
     "text": [
      "Prime Number Checker\n",
      "\n"
     ]
    },
    {
     "name": "stdin",
     "output_type": "stream",
     "text": [
      "Please enter a number between 1 and 5000 -1\n"
     ]
    },
    {
     "name": "stdout",
     "output_type": "stream",
     "text": [
      "Invalid integer. Please try again\n",
      "-1 is prime\n"
     ]
    }
   ],
   "source": [
    "### CODE HERE ###\n",
    "def val_int(user):\n",
    "    min = 1\n",
    "    max = 5000\n",
    "    if user > min and user < max:\n",
    "        return user\n",
    "    else:\n",
    "        print(\"Invalid integer. Please try again\")\n",
    "        user = int(input(\"Please enter a number between 1 and 5000\"))\n",
    "\n",
    "\n",
    "\n",
    "def factors(user):\n",
    "    counter = 0\n",
    "    for i in range(1, user+1, 1):\n",
    "        if user % i == 0:\n",
    "            counter+=1\n",
    "            \n",
    "    return counter\n",
    "\n",
    "\n",
    "def main():\n",
    "    \n",
    "    print(\"Prime Number Checker\")\n",
    "    print()\n",
    "    user1 = 'y'\n",
    "    \n",
    "    while user1.lower() == 'y':\n",
    "        \n",
    "        user = int(input(\"Please enter a number between 1 and 5000\"))\n",
    "        val_int(user)\n",
    "        \n",
    "        total_fact = factors(user)\n",
    "        if total_fact > 2:\n",
    "            print(user, \"is not prime\")\n",
    "            print(\"It has\", total_fact, \"factors\")\n",
    "        else:\n",
    "            print(user, \"is prime\")\n",
    "\n",
    "        user1 = input(\"Try again? (y/n):\")\n",
    "\n",
    "    print(\"Bye!\")\n",
    "\n",
    "if __name__ == \"__main__\":\n",
    "    main()\n"
   ]
  },
  {
   "cell_type": "code",
   "execution_count": null,
   "metadata": {},
   "outputs": [],
   "source": []
  }
 ],
 "metadata": {
  "kernelspec": {
   "display_name": "Python [conda env:base] *",
   "language": "python",
   "name": "conda-base-py"
  },
  "language_info": {
   "codemirror_mode": {
    "name": "ipython",
    "version": 3
   },
   "file_extension": ".py",
   "mimetype": "text/x-python",
   "name": "python",
   "nbconvert_exporter": "python",
   "pygments_lexer": "ipython3",
   "version": "3.12.7"
  }
 },
 "nbformat": 4,
 "nbformat_minor": 4
}
