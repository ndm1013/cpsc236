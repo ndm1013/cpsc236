{
 "cells": [
  {
   "cell_type": "markdown",
   "metadata": {},
   "source": [
    "# Exceptions\n",
    "\n",
    "To submit this assignment in D2l, post the link to your notebook file on your GitHub account."
   ]
  },
  {
   "cell_type": "markdown",
   "metadata": {},
   "source": [
    "## 8.1 Tip Calculator\n",
    "Add exception handling to a Tip Calculator program.\n",
    "\n",
    "### Console:\n",
    "```powershell\n",
    "Tip Calculator\n",
    "\n",
    "INPUT\n",
    "Cost of meal: ten\n",
    "Must be valid decimal number. Please try again. \n",
    "Cost of meal: -10\n",
    "Must be greater than 0. Please try again. \n",
    "Cost of meal: 52.31\n",
    "Tip percent:\t17.5\n",
    "Must be valid integer. Please try again. \n",
    "Tip percent:\t20\n",
    "\n",
    "OUTPUT\n",
    "Cost of meal:   52.31 \n",
    "Tip percent:    20%\n",
    "Tip amount:     10.46\n",
    "Total amount:   62.77\n",
    "```\n",
    "\n",
    "### Specifications:\n",
    "- The program should accept **decimal** entries like 52.31 and 15.5 for the cost of the meal.\n",
    "- The program should accept **integer** entries like 15, 20, 25 for the tip percent.\n",
    "- The program should validate both user entries. That way, the user can’t crash the program by entering invalid data.\n",
    "- The program should only accept numbers that are **greater than 0**.\n",
    "- The program should round results to a maximum of two decimal places.\n"
   ]
  },
  {
   "cell_type": "code",
   "execution_count": 63,
   "metadata": {},
   "outputs": [
    {
     "name": "stdout",
     "output_type": "stream",
     "text": [
      "Tip Calculator\n",
      "\n",
      "INPUT\n"
     ]
    },
    {
     "name": "stdin",
     "output_type": "stream",
     "text": [
      "Cost of meal: ten\n"
     ]
    },
    {
     "name": "stdout",
     "output_type": "stream",
     "text": [
      "Must be a valid decimal number. Please try again.\n"
     ]
    },
    {
     "name": "stdin",
     "output_type": "stream",
     "text": [
      "Cost of meal: -10\n"
     ]
    },
    {
     "name": "stdout",
     "output_type": "stream",
     "text": [
      "Must be greater than 0. Please try again\n"
     ]
    },
    {
     "name": "stdin",
     "output_type": "stream",
     "text": [
      "Cost of meal: 52.31\n",
      "Tip amount: 17.5\n"
     ]
    },
    {
     "name": "stdout",
     "output_type": "stream",
     "text": [
      "Must be a valid integer. Please try again.\n"
     ]
    },
    {
     "name": "stdin",
     "output_type": "stream",
     "text": [
      "Tip amount: 20\n"
     ]
    },
    {
     "name": "stdout",
     "output_type": "stream",
     "text": [
      "\n",
      "OUTPUT\n",
      "Cost of meal:  52.31\n",
      "Tip Percent:   20%\n",
      "Tip Amount:    10.46\n",
      "Total Amount:  62.77\n"
     ]
    }
   ],
   "source": [
    "### CODE HERE ###\n",
    "\n",
    "def display_menu():\n",
    "    print(\"Tip Calculator\")\n",
    "    print()\n",
    "\n",
    "def get_meal_cost():\n",
    "    print(\"INPUT\")\n",
    "\n",
    "    \n",
    "    while True:\n",
    "        try:\n",
    "            meal_cost = float(input(\"Cost of meal:\"))\n",
    "            if meal_cost <= 0:\n",
    "                print(\"Must be greater than 0. Please try again\")\n",
    "            else:\n",
    "                return meal_cost\n",
    "                break\n",
    "        except:\n",
    "            print(\"Must be a valid decimal number. Please try again.\")\n",
    "\n",
    "def get_tip_perc():\n",
    "    while True:\n",
    "        try:\n",
    "            tip_perc = int(input(\"Tip amount:\"))\n",
    "            if tip_perc <= 0:\n",
    "                print(\"Must be greater than 0. Please try again\")\n",
    "            else:\n",
    "                return tip_perc\n",
    "                break\n",
    "        except:\n",
    "            print(\"Must be a valid integer. Please try again.\")\n",
    "\n",
    "def get_output(meal_cost, tip_perc):\n",
    "    tip_amt = round(meal_cost * (tip_perc / 100), 2)\n",
    "    tot_amt = tip_amt + meal_cost\n",
    "\n",
    "    print()\n",
    "    print(\"OUTPUT\")\n",
    "    print(\"Cost of meal: \", meal_cost)\n",
    "    print(\"Tip Percent:   \", tip_perc, \"%\", sep=\"\")\n",
    "    print(\"Tip Amount:   \", tip_amt)\n",
    "    print(\"Total Amount: \", tot_amt)\n",
    "    \n",
    "            \n",
    "    \n",
    "\n",
    "def main():\n",
    "    display_menu()\n",
    "    meal_cost = get_meal_cost()\n",
    "    tip_perc = get_tip_perc()\n",
    "    get_output(meal_cost, tip_perc)\n",
    "\n",
    "if __name__ == \"__main__\":\n",
    "    main()\n",
    "    "
   ]
  },
  {
   "cell_type": "markdown",
   "metadata": {},
   "source": [
    "## 8.2 Wizard Inventory\n",
    "\n",
    "Add exception handling to a program that keeps track of the inventory of items that a wizard can carry. If you still have Wizard Inventory from Handson_5, you can add the exception handling to that program. Otherwise, you can start this program from scratch.\n",
    "\n",
    "### Console if the program can't find the **inventory** file:\n",
    "```powershell\n",
    "The Wizard Inventory program\n",
    "\n",
    "COMMAND MENU\n",
    "walk - Walk down the path \n",
    "show - Show all items \n",
    "drop - Drop an item\n",
    "exit - Exit program\n",
    "\n",
    "Could not find inventory file!\n",
    "Wizard is starting with no inventory.\n",
    "\n",
    "Command: walk\n",
    "While walking down a path, you see a crossbow.\n",
    "Do you want to grab it? (y/n): y\n",
    "You picked up a crossbow.\n",
    "\n",
    "Command: show\n",
    "1. a crossbow\n",
    "\n",
    "Command: drop Number: x\n",
    "Invalid item number.\n",
    "```\n",
    "\n",
    "### The error message if the program can’t find the **items** file:\n",
    "```powershell\n",
    "Could not find items file.\t\n",
    "Exiting program. Bye!\t\n",
    "```\n",
    "\n",
    "### Specifications:\n",
    "- This program should read the text file named `wizard_all_items.txt` that contains all the items a wizard can carry.\n",
    "- When the user selects the walk command, the program should randomly pick one of the items that were read from the text file and give the user the option to grab it.\n",
    "- The current items that the wizard is carrying should be saved in an inventory file. Make sure to update this file every time the user grabs or drops an item.\n",
    "- The wizard can only carry four items at a time. For the drop command, display an error message if the user enters an invalid integer or an integer that doesn’t correspond with an item.\n",
    "- Handle all exceptions that might occur so that the user can’t cause the program to crash. If the all items file is missing, display an appropriate error message and exit the program.\n",
    "- If the inventory file is missing, display an appropriate error message and continue with an empty inventory for the user. That way, the program will write a new inventory file when the user adds items to the inventory."
   ]
  },
  {
   "cell_type": "code",
   "execution_count": 45,
   "metadata": {},
   "outputs": [
    {
     "name": "stdout",
     "output_type": "stream",
     "text": [
      "COMMAND MENU\n",
      "walk - walk down the path\n",
      "show - show all items\n",
      "drop - drop an item\n",
      "exit - exit program\n"
     ]
    },
    {
     "name": "stdin",
     "output_type": "stream",
     "text": [
      "\n",
      "Command: walk\n"
     ]
    },
    {
     "name": "stdout",
     "output_type": "stream",
     "text": [
      "Could not find inventory file!\n",
      " Wizard is starting with no inventory\n",
      "\n",
      "While walking down a path, you see a wooden staff\n"
     ]
    },
    {
     "name": "stdin",
     "output_type": "stream",
     "text": [
      "Do you want to grab it? (y/n): y\n"
     ]
    },
    {
     "name": "stdout",
     "output_type": "stream",
     "text": [
      "You picked up a wooden staff \n",
      "\n"
     ]
    },
    {
     "name": "stdin",
     "output_type": "stream",
     "text": [
      "\n",
      "Command: show\n"
     ]
    },
    {
     "name": "stdout",
     "output_type": "stream",
     "text": [
      "1.\ta wooden staff \n",
      "\n"
     ]
    },
    {
     "name": "stdin",
     "output_type": "stream",
     "text": [
      "\n",
      "Command: drop\n"
     ]
    },
    {
     "name": "stdout",
     "output_type": "stream",
     "text": [
      "1. a wooden staff\n"
     ]
    },
    {
     "name": "stdin",
     "output_type": "stream",
     "text": [
      "Drop Number:  x\n"
     ]
    },
    {
     "name": "stdout",
     "output_type": "stream",
     "text": [
      "Invalid item number.\n"
     ]
    },
    {
     "name": "stdin",
     "output_type": "stream",
     "text": [
      "\n",
      "Command: exit\n"
     ]
    },
    {
     "name": "stdout",
     "output_type": "stream",
     "text": [
      "Bye!\n"
     ]
    }
   ],
   "source": [
    "import random\n",
    "import sys\n",
    "import os\n",
    "\n",
    "FILEPATH_ALL = r\"C:\\Users\\nm161\\OneDrive\\Documents\\Sophomore Semester 2\\Selected Languages ~ Python\\Ch7\\Ch7 Hands On\\wizard_all_items.txt\"\n",
    "FILEPATH_INV = r\"C:\\Users\\nm161\\Downloads\\wizard_inventory (1).txt\"\n",
    "\n",
    "def display_menu():\n",
    "    print(\"COMMAND MENU\")\n",
    "    print(\"walk - walk down the path\")\n",
    "    print(\"show - show all items\")\n",
    "    print(\"drop - drop an item\")\n",
    "    print(\"exit - exit program\")\n",
    "\n",
    "#--------------------------------------------------------\n",
    "\n",
    "def walk():\n",
    "\n",
    "    \n",
    "    try:\n",
    "        with open(r\"C:\\\\nm161\\Downloads\\wizard_inventory (1).txt\") as file:\n",
    "            lines = []\n",
    "            for line in file:\n",
    "                stripped = line.strip()\n",
    "                lines.append(stripped)\n",
    "    except FileNotFoundError as e:\n",
    "        print(\"Could not find inventory file!\\n Wizard is starting with no inventory\")\n",
    "        lines = []\n",
    "        \n",
    "        if len(lines) >= 4:\n",
    "            print(\"You can't carry any more items. Drop something first.\\n\")\n",
    "            return\n",
    "    \n",
    "    try:        \n",
    "        with open(r\"C:\\Users\\nm161\\OneDrive\\Documents\\Sophomore Semester 2\\Selected Languages ~ Python\\Ch7\\Ch7 Hands On\\wizard_all_items.txt\") as file:\n",
    "            text = file.readlines()\n",
    "            items_list = []\n",
    "            for line in text: \n",
    "                clean = line.replace(\"\\n\", \"\")\n",
    "                items_list.append(clean)\n",
    "            random_index = random.randint(0, len(items_list))\n",
    "            random_item = items_list[random_index]\n",
    "    except:\n",
    "        print(\"Could not find the items file\")\n",
    "        print(\"Exiting program. Bye!\")\n",
    "        sys.exit()\n",
    "    finally:\n",
    "        print(\"\\nWhile walking down a path, you see\", random_item)\n",
    "        answer = input(\"Do you want to grab it? (y/n):\")\n",
    "    \n",
    "        \n",
    "        if answer.lower() == \"y\":\n",
    "            print(\"You picked up\", random_item, \"\\n\")\n",
    "            \n",
    "\n",
    "            with open(FILEPATH_INV, \"r+\") as file:\n",
    "                content = file.read()\n",
    "                if content.strip():\n",
    "                    file.write(\"\\n\" + str(random_item))\n",
    "                else:\n",
    "                    file.write(str(random_item))\n",
    "        else:\n",
    "            print(\"You did not pick up\", random_item, \"\\n\")\n",
    "\n",
    "    \n",
    "    \n",
    "#---------------------------------------------------------------\n",
    "\n",
    "def show():\n",
    "    with open(FILEPATH_INV) as file:\n",
    "        \n",
    "        counter = 0\n",
    "        lines = file.readlines()\n",
    "        for line in lines:\n",
    "           \n",
    "            counter += 1\n",
    "            print(str(counter) + \".\" + \"\\t\" + str(line), \"\\n\")\n",
    "\n",
    "\n",
    "#----------------------------------------------------------------\n",
    "\n",
    "\n",
    "def drop():\n",
    "    \n",
    "    with open(FILEPATH_INV) as file:\n",
    "        cleaned = []\n",
    "        for line in file:\n",
    "            line = line.strip()\n",
    "            cleaned.append(line)\n",
    "\n",
    "\n",
    "        i = 1\n",
    "        for item in cleaned:\n",
    "            print(str(i) + \". \" + item)\n",
    "            i += 1\n",
    "        try:\n",
    "            number = int(input(\"Drop Number: \"))\n",
    "            if number < 1 or number > len(cleaned):\n",
    "                print(\"Invalid number.\\n\")\n",
    "                return\n",
    "                \n",
    "            removed_item = cleaned.pop(number - 1)\n",
    "    \n",
    "            with open(FILEPATH_INV, \"w\") as file:\n",
    "                for line in cleaned:\n",
    "                    file.write(line + \"\\n\")\n",
    "    \n",
    "            print(\"You dropped a\", removed_item, \"\\n\")\n",
    "            \n",
    "        except ValueError as e:\n",
    "            print(\"Invalid item number.\")\n",
    "        except TypeError as e:\n",
    "            print(e)\n",
    "        except NameError as e:\n",
    "            print(\"Variable name is not used properly\")\n",
    "            print(e)\n",
    "        \n",
    "    \n",
    "    \n",
    "\n",
    "\n",
    "#--------------------------------------------------------------\n",
    "        \n",
    "def main():\n",
    "    display_menu()\n",
    "\n",
    "\n",
    "    while True:\n",
    "        user = input(\"\\nCommand:\")\n",
    "        if user == \"walk\":\n",
    "            walk()\n",
    "        elif user == \"show\":\n",
    "            show()\n",
    "        elif user == \"drop\":\n",
    "            drop()\n",
    "        elif user == \"exit\":\n",
    "            print(\"Bye!\")\n",
    "            break\n",
    "        # else:\n",
    "        #     print(\"Invalid input. Please try again.\")\n",
    "\n",
    "if __name__ == \"__main__\":\n",
    "    main()"
   ]
  },
  {
   "cell_type": "code",
   "execution_count": null,
   "metadata": {},
   "outputs": [],
   "source": []
  }
 ],
 "metadata": {
  "kernelspec": {
   "display_name": "Python [conda env:base] *",
   "language": "python",
   "name": "conda-base-py"
  },
  "language_info": {
   "codemirror_mode": {
    "name": "ipython",
    "version": 3
   },
   "file_extension": ".py",
   "mimetype": "text/x-python",
   "name": "python",
   "nbconvert_exporter": "python",
   "pygments_lexer": "ipython3",
   "version": "3.12.7"
  }
 },
 "nbformat": 4,
 "nbformat_minor": 4
}
