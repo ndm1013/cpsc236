{
 "cells": [
  {
   "cell_type": "markdown",
   "metadata": {},
   "source": [
    "# List and Tuples\n",
    "\n",
    "To submit this assignment in D2l, post the link to your notebook file on your GitHub account."
   ]
  },
  {
   "cell_type": "markdown",
   "metadata": {},
   "source": [
    "## 6.1 Prime Number Checker\n",
    "Create a program that checks whether a number is a prime number and displays its factors if it is not a prime number.\n",
    "\n",
    "### Console:\n",
    "```powershell\n",
    "Prime Number Checker\n",
    "\n",
    "Please enter an integer between 1 and 5000: 5\n",
    "5 is a prime number.\n",
    "\n",
    "Try again? (y/n): y\n",
    "\n",
    "Please enter an integer between 1 and 5000: 6\n",
    "6 is NOT a prime number.\n",
    "It has 4 factors: 1 2 3 6\n",
    "\n",
    "Try again? (y/n): y\n",
    "\n",
    "Please enter an integer between 1 and 5000: 200\n",
    "200 is NOT a prime number.\n",
    "It has 12 factors: 1 2 4 5 8 10 20 25 40 50 100 200\n",
    "\n",
    "Try again? (y/n): n\n",
    "\n",
    "Bye!\n",
    "```\n",
    "\n",
    "### Specifications:\n",
    "- A prime number is divisible by two factors (1 and itself). For example, 7 is a prime number because it is only divisible by 1 and 7.\n",
    "- If the user enters an integer that's not between 1 and 5000, the program should display an error message.\n",
    "- If the number is a prime number, the program should display a message.\n",
    "If the number is not a prime number, the program should display a message. Then, it should display the number of factors for the number and a list of those factors.\n",
    "- Store the factors for each number in a list.\n",
    "- Use functions to organize the code for this program.\n"
   ]
  },
  {
   "cell_type": "code",
   "execution_count": 37,
   "metadata": {},
   "outputs": [
    {
     "name": "stdout",
     "output_type": "stream",
     "text": [
      "Prime Number Checker\n",
      "\n"
     ]
    },
    {
     "name": "stdin",
     "output_type": "stream",
     "text": [
      "Please enter an integer between 1 and 5000: 7\n"
     ]
    },
    {
     "name": "stdout",
     "output_type": "stream",
     "text": [
      "7  is a prime number\n",
      "\n"
     ]
    },
    {
     "name": "stdin",
     "output_type": "stream",
     "text": [
      "Try again? (y/n): y\n",
      "Please enter an integer between 1 and 5000: 20\n"
     ]
    },
    {
     "name": "stdout",
     "output_type": "stream",
     "text": [
      "20  is NOT a prime number\n",
      "It has 6  factors: [1, 2, 4, 5, 10, 20]\n",
      "\n"
     ]
    },
    {
     "name": "stdin",
     "output_type": "stream",
     "text": [
      "Try again? (y/n): y\n",
      "Please enter an integer between 1 and 5000: 1\n"
     ]
    },
    {
     "name": "stdout",
     "output_type": "stream",
     "text": [
      "1  is a prime number\n",
      "\n"
     ]
    },
    {
     "name": "stdin",
     "output_type": "stream",
     "text": [
      "Try again? (y/n): n\n"
     ]
    },
    {
     "name": "stdout",
     "output_type": "stream",
     "text": [
      "\n",
      "Bye!\n"
     ]
    }
   ],
   "source": [
    "### CODE HERE ###\n",
    "def val_num(user):\n",
    "    min = 1\n",
    "    max = 5000\n",
    "    while user < min or user > max:\n",
    "        print(\"Invalid Input. Please try again\")\n",
    "        user = int(input(\"Please enter an integer between 1 and 5000:\"))\n",
    "    \n",
    "\n",
    "def prime_check(user):\n",
    "    counter = 0\n",
    "    for i in range(1, user+1, 1):\n",
    "        if user % i == 0:\n",
    "            counter+=1\n",
    "    return counter\n",
    "\n",
    "\n",
    "def factors(user):\n",
    "    factors_list = []\n",
    "    for i in range(1, user+1, 1):\n",
    "        if user % i == 0:\n",
    "            factors_list.append(i)\n",
    "    return factors_list\n",
    "    \n",
    "\n",
    "\n",
    "def main():\n",
    "    print(\"Prime Number Checker\")\n",
    "    print()\n",
    "\n",
    "    user1 = 'y'\n",
    "    \n",
    "    while user1.lower() == 'y':\n",
    "        \n",
    "        user = int(input(\"Please enter an integer between 1 and 5000:\"))\n",
    "        val_num(user)\n",
    "    \n",
    "        \n",
    "        tot_fact = prime_check(user)\n",
    "        factor_list = factors(user)\n",
    "        if tot_fact > 2:\n",
    "            print(user, \" is NOT a prime number\")\n",
    "            print(\"It has\", tot_fact, \" factors:\", factor_list)\n",
    "        else:\n",
    "            print(user, \" is a prime number\")\n",
    "            \n",
    "\n",
    "        print()\n",
    "        \n",
    "        user1 = input(\"Try again? (y/n):\")\n",
    "    print()\n",
    "    print(\"Bye!\")\n",
    "\n",
    "if __name__ == \"__main__\":\n",
    "    main()"
   ]
  },
  {
   "cell_type": "markdown",
   "metadata": {},
   "source": [
    "## 6.2 - Contact Manager\n",
    "Create a program that a user can use to manage the primary email address and phone number for a contact.\n",
    "\n",
    "### Console\n",
    "```powershell\n",
    "Contact Manager\n",
    "\n",
    "COMMAND MENU\n",
    "list - Display all contacts\n",
    "view - View a contact\n",
    "add - Add a contact\n",
    "del - Delete a contact\n",
    "exit - Exit program\n",
    "\n",
    "Command: list\n",
    "1. Guido van Rossum\n",
    "2. Eric Idle\n",
    "\n",
    "Command: view\n",
    "Number: 2\n",
    "Name: Eric Idle\n",
    "Email: eric@ericidle.com\n",
    "Phone: +44 20 7946 0958\n",
    "\n",
    "Command: add\n",
    "Name: Mike Murach\n",
    "Email: mike@murach.com\n",
    "Phone: 559-123-4567\n",
    "Mike Murach was added.\n",
    "\n",
    "Command: del\n",
    "Number: 1\n",
    "Guido van Rossum was deleted.\n",
    "\n",
    "Command: list\n",
    "1. Eric Idle\n",
    "2. Mike Murach\n",
    "\n",
    "Command: exit\n",
    "Bye!\n",
    "```\n",
    "\n",
    "### Specifications:\n",
    "- Use a list of lists to store the data for the contacts. Provide starting data for two or more contacts.\n",
    "- For the `view` and `del` commands, display an error message if the user enters and invalid contact number.\n",
    "- When you exit the program, all changes that you made to the contact list are lost.\n",
    "\n",
    "\n"
   ]
  },
  {
   "cell_type": "code",
   "execution_count": 17,
   "metadata": {},
   "outputs": [
    {
     "name": "stdout",
     "output_type": "stream",
     "text": [
      "Contact Manager\n",
      "\n",
      "COMMAND MENU\n",
      "list - Display all contacts\n",
      "view - View a contact\n",
      "add - Add a contact\n",
      "del - Delete a contact\n",
      "exit - Exit program\n",
      "\n"
     ]
    },
    {
     "name": "stdin",
     "output_type": "stream",
     "text": [
      "Command: list\n"
     ]
    },
    {
     "name": "stdout",
     "output_type": "stream",
     "text": [
      "1. Dave Robinson\n",
      "2. Eric Idle\n",
      "\n"
     ]
    },
    {
     "name": "stdin",
     "output_type": "stream",
     "text": [
      "\n",
      "Command: view\n",
      "Number: 2\n"
     ]
    },
    {
     "name": "stdout",
     "output_type": "stream",
     "text": [
      "Name: Eric Idle\n",
      "Email: ericidle@yahoo.com\n",
      "Phone: 412-543-0099\n"
     ]
    },
    {
     "name": "stdin",
     "output_type": "stream",
     "text": [
      "\n",
      "Command: add\n",
      "Name: Nathan M\n",
      "Email: nathanm@gmail.com\n",
      "Phone: 412 994 5532\n"
     ]
    },
    {
     "name": "stdout",
     "output_type": "stream",
     "text": [
      "Nathan M was added\n"
     ]
    },
    {
     "name": "stdin",
     "output_type": "stream",
     "text": [
      "\n",
      "Command: del\n",
      "Number: 1\n"
     ]
    },
    {
     "name": "stdout",
     "output_type": "stream",
     "text": [
      "Dave Robinson was deleted.\n",
      "\n"
     ]
    },
    {
     "name": "stdin",
     "output_type": "stream",
     "text": [
      "\n",
      "Command: list\n"
     ]
    },
    {
     "name": "stdout",
     "output_type": "stream",
     "text": [
      "1. Eric Idle\n",
      "2. Nathan M\n",
      "\n"
     ]
    },
    {
     "name": "stdin",
     "output_type": "stream",
     "text": [
      "\n",
      "Command: exit\n"
     ]
    },
    {
     "name": "stdout",
     "output_type": "stream",
     "text": [
      "Bye!\n"
     ]
    }
   ],
   "source": [
    "### CODE HERE ###\n",
    "def display_menu():\n",
    "    print(\"COMMAND MENU\")\n",
    "    print(\"list - Display all contacts\")\n",
    "    print(\"view - View a contact\")\n",
    "    print(\"add - Add a contact\")\n",
    "    print(\"del - Delete a contact\")\n",
    "    print(\"exit - Exit program\")\n",
    "    print()\n",
    "\n",
    "def list(contact_list):\n",
    "    if len(contact_list) == 0: \n",
    "        print(\"There are no contacts in the list.\\n\")\n",
    "        return\n",
    "    else:\n",
    "        i = 1\n",
    "        for row in contact_list:\n",
    "            print(i, \". \", row[0], sep=\"\")\n",
    "            i += 1\n",
    "        print()\n",
    "\n",
    "def view(list):\n",
    "    user = int(input(\"Number:\"))\n",
    "    if user < 1 or user > len(list):\n",
    "        print(\"Invalid contact number.\\n\")\n",
    "    else:\n",
    "        print(\"Name:\", list[user-1][0])\n",
    "        print(\"Email:\", list[user-1][1])\n",
    "        print(\"Phone:\", list[user-1][2])\n",
    "    # user1 += 1  #set the indexes to the correct number\n",
    "    # print(\"Name:\", list[user1-1][0])\n",
    "    # print(\"Email:\", list[user1-1][1])\n",
    "    # print(\"Phone:\", list[user1-1][2])\n",
    "    # return list[user1+1]\n",
    "\n",
    "\n",
    "def add(list):\n",
    "    name = input(\"Name:\")\n",
    "    email = input(\"Email:\")\n",
    "    phone = input(\"Phone:\")\n",
    "    print(name, \"was added\")\n",
    "    \n",
    "    new_contact = [name, email, phone]\n",
    "    list.append(new_contact)\n",
    "\n",
    "def delete(list):\n",
    "    user = int(input(\"Number:\"))\n",
    "    if user < 1 or user > len(list):\n",
    "        print(\"Invalid contact number.\\n\")\n",
    "    else:\n",
    "        del_contact = list.pop(user-1) #pops the index of the user number (user - 1)\n",
    "        print(del_contact[0], \"was deleted.\\n\")\n",
    "    \n",
    " \n",
    "def main():\n",
    "    print(\"Contact Manager\")\n",
    "    print()\n",
    "    display_menu()\n",
    "        \n",
    "#create starting data for the list of contacts\n",
    "    contact_list = [\n",
    "                    [\"Dave Robinson\", \"dave.robinson@gmail.com\", \"724-757-7567\"], \n",
    "                    [\"Eric Idle\", \"ericidle@yahoo.com\", \"412-543-0099\"]]\n",
    "\n",
    "    \n",
    "    \n",
    "    user = input(\"Command:\")\n",
    "    while user != \"exit\":\n",
    "        if user == \"list\":\n",
    "            list(contact_list)\n",
    "        elif user == \"view\":\n",
    "            view(contact_list)\n",
    "        elif user == \"add\":\n",
    "            add(contact_list)\n",
    "        elif user == \"del\":\n",
    "            delete(contact_list)\n",
    "        elif user == \"exit\":\n",
    "            exit()\n",
    "        user = input(\"\\nCommand:\")\n",
    "    print(\"Bye!\")\n",
    "        \n",
    "    \n",
    "\n",
    "if __name__ == \"__main__\":\n",
    "    main()"
   ]
  },
  {
   "cell_type": "code",
   "execution_count": null,
   "metadata": {},
   "outputs": [],
   "source": []
  }
 ],
 "metadata": {
  "kernelspec": {
   "display_name": "Python [conda env:base] *",
   "language": "python",
   "name": "conda-base-py"
  },
  "language_info": {
   "codemirror_mode": {
    "name": "ipython",
    "version": 3
   },
   "file_extension": ".py",
   "mimetype": "text/x-python",
   "name": "python",
   "nbconvert_exporter": "python",
   "pygments_lexer": "ipython3",
   "version": "3.12.7"
  }
 },
 "nbformat": 4,
 "nbformat_minor": 4
}
