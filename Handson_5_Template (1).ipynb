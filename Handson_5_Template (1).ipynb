{
 "cells": [
  {
   "cell_type": "markdown",
   "metadata": {},
   "source": [
    "# File Input\n",
    "\n",
    "To submit this assignment in D2l, post the link to your notebook file on your GitHub account."
   ]
  },
  {
   "cell_type": "markdown",
   "metadata": {},
   "source": [
    "## 7.1 Pig Dice Rules\n",
    "Create a program that reads a list of rules from a file and displays them.\n",
    "\n",
    "### Console:\n",
    "```powershell\n",
    "Pig Dice Rules:\n",
    "*\tSee how many turns it takes you to get to 20.\n",
    "*\tTurn ends when player rolls a 1 or chooses to hold.\n",
    "*\tIf you roll a 1, you lose all points earned during the turn.\n",
    "*\tIf you hold, you save all points earned during the turn.\n",
    "```\n",
    "\n",
    "### Specifications:\n",
    "- Use the attached text file named `pig_dice_rules.txt` in the corresponding Directory.\n",
    "- Your program should read the text file and display it on the console.\n"
   ]
  },
  {
   "cell_type": "code",
   "execution_count": 1,
   "metadata": {},
   "outputs": [
    {
     "name": "stdout",
     "output_type": "stream",
     "text": [
      "Pig Dice Rules:\n",
      "* See how many turns it takes you to get to 20.\n",
      "* Turn ends when player rolls a 1 or chooses to hold.\n",
      "* If you roll a 1, you lose all points earned during the turn.\n",
      "* If you hold, you save all points earned during the turn.\n"
     ]
    }
   ],
   "source": [
    "### CODE HERE ###\n",
    "f = open(r\"C:\\Users\\nm161\\Downloads\\pig_dice_rules.txt\", \"r\")\n",
    "print(f.read())\n",
    "f.close()"
   ]
  },
  {
   "cell_type": "markdown",
   "metadata": {},
   "source": [
    "## 7.2 Wizard Inventory\n",
    "Create a program that keeps track of the items that a wizard can carry.\n",
    "\n",
    "### Console:\n",
    "```powershell\n",
    "The Wizard Inventroy Program\n",
    "\n",
    "COMMAND MENU\n",
    "walk - Walk down the path \n",
    "show - Show all items \n",
    "drop - Drop an item\n",
    "exit - Exit program\n",
    "\n",
    "Command: walk\n",
    "While walking down a path, you see a scroll of uncursing. \n",
    "Do you want to grab it? (y/n): y\n",
    "You picked up a scroll of uncursing.\n",
    "\n",
    "Command: walk\n",
    "While walking down a path, you see an unknown potion. \n",
    "Do you want to grab it? (y/n): y\n",
    "You can't carry any more items. Drop something first.\n",
    "\n",
    "Command: show\n",
    "1.\ta wooden staff\n",
    "2.\ta scroll of invisibility\n",
    "3.\ta crossbow\n",
    "4.\ta scroll of uncursing\n",
    "\n",
    "Command: drop Number: 3\n",
    "You dropped a crossbow.\n",
    "\n",
    "Command: exit \n",
    "Bye!\n",
    "```\n",
    "\n",
    "### Specifications:\n",
    "- Use the attached text file named `wizard_all_items.txt` that contains a list of all the items that a wizard can carry. (in the corresponding directory)\n",
    "- When the user selects the walk command, the program should read the items from the file, randomly pick one, and give the user the option to grab it.\n",
    "- Your program should create another file that stores the items that the wizard is carrying (`wizard_inventory.txt`). Make sure to update this file every time the user grabs or drops an item.\n",
    "- The wizard can only carry **four** items at a time.\n",
    "- For the drop command, display an error message if the user enters an invalid number for the item.\n",
    "\n"
   ]
  },
  {
   "cell_type": "code",
   "execution_count": 208,
   "metadata": {},
   "outputs": [
    {
     "name": "stdout",
     "output_type": "stream",
     "text": [
      "COMMAND MENU\n",
      "walk - walk down the path\n",
      "show - show all items\n",
      "drop - drop an item\n",
      "exit - exit program\n"
     ]
    },
    {
     "name": "stdin",
     "output_type": "stream",
     "text": [
      "\n",
      "Command: walk\n"
     ]
    },
    {
     "name": "stdout",
     "output_type": "stream",
     "text": [
      "\n",
      "While walking down a path, you see some elven bread\n"
     ]
    },
    {
     "name": "stdin",
     "output_type": "stream",
     "text": [
      "Do you want to grab it? (y/n): y\n"
     ]
    },
    {
     "name": "stdout",
     "output_type": "stream",
     "text": [
      "You picked up some elven bread \n",
      "\n"
     ]
    },
    {
     "name": "stdin",
     "output_type": "stream",
     "text": [
      "Command: walk\n"
     ]
    },
    {
     "name": "stdout",
     "output_type": "stream",
     "text": [
      "You can't carry any more items. Drop something first.\n",
      "\n"
     ]
    },
    {
     "name": "stdin",
     "output_type": "stream",
     "text": [
      "Command: drop\n",
      "Drop Number:  1\n"
     ]
    },
    {
     "name": "stdout",
     "output_type": "stream",
     "text": [
      "You dropped a a wooden staff \n",
      "\n"
     ]
    },
    {
     "name": "stdin",
     "output_type": "stream",
     "text": [
      "Command: exit\n"
     ]
    },
    {
     "name": "stdout",
     "output_type": "stream",
     "text": [
      "Bye!\n"
     ]
    }
   ],
   "source": [
    "import random\n",
    "\n",
    "\n",
    "def display_menu():\n",
    "    print(\"COMMAND MENU\")\n",
    "    print(\"walk - walk down the path\")\n",
    "    print(\"show - show all items\")\n",
    "    print(\"drop - drop an item\")\n",
    "    print(\"exit - exit program\")\n",
    "\n",
    "#--------------------------------------------------------\n",
    "\n",
    "def walk():\n",
    "\n",
    "    with open(r\"C:\\Users\\nm161\\Downloads\\wizard_inventory.txt\") as file:\n",
    "        lines = file.readlines()\n",
    "\n",
    "        if len(lines) >= 4:\n",
    "            print(\"You can't carry any more items. Drop something first.\\n\")\n",
    "            return\n",
    "\n",
    "        random_index = random.randint(0, len(lines))\n",
    "        random_item = item_list[random_index]\n",
    "\n",
    "    \n",
    "    print(\"\\nWhile walking down a path, you see\", random_item)\n",
    "    answer = input(\"Do you want to grab it? (y/n):\")\n",
    "\n",
    "    \n",
    "    if answer == \"y\":\n",
    "        print(\"You picked up\", random_item, \"\\n\")\n",
    "        inventory.append(random_item)\n",
    "        with open(r\"C:\\Users\\nm161\\Downloads\\wizard_inventory.txt\", \"a\") as file:\n",
    "            file.write(\"\\n\" + str(random_item))\n",
    "    else:\n",
    "        print(\"You did not pick up\", random_item, \"\\n\")\n",
    "    \n",
    "#---------------------------------------------------------------\n",
    "\n",
    "def show():\n",
    "    with open(r\"C:\\Users\\nm161\\Downloads\\wizard_inventory.txt\") as file:\n",
    "        \n",
    "        counter = 0\n",
    "        lines = file.readlines()\n",
    "        for line in lines:\n",
    "           \n",
    "            counter += 1\n",
    "            print(str(counter) + \".\" + \"\\t\" + str(line), \"\\n\")\n",
    "\n",
    "\n",
    "#----------------------------------------------------------------\n",
    "\n",
    "\n",
    "def drop():\n",
    "    with open(r\"C:\\Users\\nm161\\Downloads\\wizard_inventory.txt\") as file:\n",
    "        lines = file.readlines()\n",
    "        number = int(input(\"Drop Number: \"))\n",
    "        if number < 1 or number > 4:\n",
    "            print(\"Invalid number.\\n\")\n",
    "        else:\n",
    "\n",
    "            removed_item = lines.pop(number - 1).strip()\n",
    "            print(\"You dropped a\", removed_item, \"\\n\")\n",
    "    \n",
    "\n",
    "#--------------------------------------------------------------\n",
    "        \n",
    "def main():\n",
    "    display_menu()\n",
    "\n",
    "\n",
    "    user = input(\"\\nCommand:\")\n",
    "    while user != \"exit\":\n",
    "        \n",
    "        if user == \"walk\":\n",
    "            walk()\n",
    "        elif user == \"show\":\n",
    "            show()\n",
    "        elif user == \"drop\":\n",
    "            drop()\n",
    "        elif user == \"exit\":\n",
    "            break\n",
    "            \n",
    "        user = input(\"Command:\")\n",
    "    print(\"Bye!\")\n",
    "\n",
    "\n",
    "if __name__ == \"__main__\":\n",
    "    main()"
   ]
  },
  {
   "cell_type": "markdown",
   "metadata": {},
   "source": [
    "## 7.3 Monthly Sales\n",
    "Create a program that reads the sales for 12 months from a file and calculates the total yearly sales as well as the average monthly sales. In addition, this program should let the user edit the sales for any month.\n",
    "\n",
    "### Console:\n",
    "```powershell\n",
    "Monthly Sales program\n",
    "\n",
    "COMMAND MENU\n",
    "monthly - View monthly sales \n",
    "yearly\t- View yearly sumary \n",
    "edit\t- Edit sales for a month \n",
    "exit\t- Exit program\n",
    "\n",
    "Command: monthly \n",
    "Jan - 14317\n",
    "Feb - 3903\n",
    "Mar - 1073\n",
    "Apr - 3463\n",
    "May - 2429\n",
    "Jun - 4324\n",
    "Jul - 9762\n",
    "Aug - 15578\n",
    "Sep - 2437\n",
    "Oct - 6735\n",
    "Nov - 88\n",
    "Dec - 2497\n",
    "\n",
    "Command: yearly\n",
    "Yearly total:\t66606\n",
    "Monthly average:\t5550.5\n",
    "\n",
    "Command: edit\n",
    "Three-letter Month: Nov Sales Amount: 8854\n",
    "Sales amount for Nov was modified.\n",
    "\n",
    "Command: exit Bye!\n",
    "```\n",
    "\n",
    "### Specifications:\n",
    "- Use the attached text file named CSV file named `monthly_sales.csv` that contains the month and sales data shown above.\n",
    "- For the edit command, display an error message if the user doesn’t enter a valid three-letter abbreviation for the month.\n",
    "- When the user edits the sales amount for a month, the data should be saved to the CSV file immediately. That way, no data is lost, even if the program crashes later.\n",
    "- Round the results of the monthly average to a maximum of 2 decimal digits."
   ]
  },
  {
   "cell_type": "code",
   "execution_count": 63,
   "metadata": {},
   "outputs": [
    {
     "name": "stdout",
     "output_type": "stream",
     "text": [
      "\n",
      "Monthly Sales Program\n",
      "\n",
      "COMMAND MENU\n",
      "monthly - View monthly sales\n",
      "yearly  - View yearly summary\n",
      "edit    - Edit sales for a month\n",
      "exit    - Exit program\n"
     ]
    },
    {
     "name": "stdin",
     "output_type": "stream",
     "text": [
      "\n",
      "Command:  monthly\n"
     ]
    },
    {
     "name": "stdout",
     "output_type": "stream",
     "text": [
      "Jan  -  14317\n",
      "Feb  -  3903\n",
      "Mar  -  1073\n",
      "Apr  -  3463\n",
      "May  -  2429\n",
      "Jun  -  4324\n",
      "Jul  -  9762\n",
      "Aug  -  15578\n",
      "Sep  -  2437\n",
      "Oct  -  6735\n",
      "Nov  -  88\n",
      "Dec  -  2497\n"
     ]
    },
    {
     "name": "stdin",
     "output_type": "stream",
     "text": [
      "\n",
      "Command:  yearly\n"
     ]
    },
    {
     "name": "stdout",
     "output_type": "stream",
     "text": [
      "\n",
      "Yearly Total: 66606\n",
      "Monthly Average: 5550.5 \n",
      "\n"
     ]
    },
    {
     "name": "stdin",
     "output_type": "stream",
     "text": [
      "\n",
      "Command:  edit\n",
      "Three-letter Month:  Nov\n",
      "Sales Amount:  8854\n"
     ]
    },
    {
     "name": "stdout",
     "output_type": "stream",
     "text": [
      "Sales amount for Nov was modified.\n",
      "\n"
     ]
    },
    {
     "name": "stdin",
     "output_type": "stream",
     "text": [
      "\n",
      "Command:  exit\n"
     ]
    },
    {
     "name": "stdout",
     "output_type": "stream",
     "text": [
      "Bye!\n"
     ]
    }
   ],
   "source": [
    "import csv\n",
    "\n",
    "FILE_PATH = r\"C:\\Users\\nm161\\Downloads\\monthly_sales.csv\"\n",
    "\n",
    "def display_menu():\n",
    "    \n",
    "    print(\"\\nMonthly Sales Program\\n\")\n",
    "    print(\"COMMAND MENU\")\n",
    "    print(\"monthly - View monthly sales\")\n",
    "    print(\"yearly  - View yearly summary\")\n",
    "    print(\"edit    - Edit sales for a month\")\n",
    "    print(\"exit    - Exit program\")\n",
    "\n",
    "def load_sales():\n",
    "    \n",
    "    sales_list = {}\n",
    "    with open(FILE_PATH, \"r\") as file:\n",
    "        for line in file:\n",
    "            month, sales = line.strip().split(\",\")\n",
    "            sales_list[month] = int(sales)\n",
    "    return sales_list\n",
    "\n",
    "def save_sales(sales_list):\n",
    "    \"\"\"Writes updated sales data back to the CSV file.\"\"\"\n",
    "    with open(FILE_PATH, \"w\", newline=\"\") as file:\n",
    "        writer = csv.writer(file)\n",
    "        for month, sales in sales_list.items():\n",
    "            writer.writerow([month, sales])\n",
    "\n",
    "def monthly_sales(sales_list):\n",
    "    \"\"\"Displays sales for each month.\"\"\"\n",
    "    for month, sales in sales_list.items():\n",
    "        print(month, \" - \",sales)\n",
    "\n",
    "def yearly_summary(sales_list):\n",
    "    \n",
    "    total_sales = sum(sales_list.values())\n",
    "    avg_sales = round(total_sales / 12, 2)\n",
    "    print(\"\\nYearly Total:\", total_sales)\n",
    "    print(\"Monthly Average:\", avg_sales, \"\\n\")\n",
    "\n",
    "def edit_sales(sales_list):\n",
    "    \n",
    "    user = input(\"Three-letter Month: \").capitalize()\n",
    "\n",
    "    if user not in sales_list:\n",
    "        print(\"Invalid month. Please enter a valid three-letter abbreviation.\\n\")\n",
    "        return\n",
    "\n",
    "    try:\n",
    "        new_sales = int(input(\"Sales Amount: \"))\n",
    "        sales_list[user] = new_sales  \n",
    "        save_sales(sales_list)  \n",
    "        \n",
    "\n",
    "        sales_list.clear()\n",
    "        sales_list.update(load_sales())\n",
    "\n",
    "        print(\"Sales amount for\", user, \"was modified.\\n\")\n",
    "    except ValueError:\n",
    "        print(\"Invalid sales amount. Please enter a number.\\n\")\n",
    "\n",
    "def main():\n",
    "\n",
    "    sales_list = load_sales()\n",
    "    \n",
    "    display_menu()\n",
    "    \n",
    "    while True:\n",
    "        command = input(\"\\nCommand: \").lower()\n",
    "        \n",
    "        if command == \"monthly\":\n",
    "            monthly_sales(sales_list)\n",
    "        elif command == \"yearly\":\n",
    "            yearly_summary(sales_list)\n",
    "        elif command == \"edit\":\n",
    "            edit_sales(sales_list)\n",
    "        elif command == \"exit\":\n",
    "            print(\"Bye!\")\n",
    "            break\n",
    "        else:\n",
    "            print(\"Invalid Input. Please try again.\")\n",
    "\n",
    "if __name__ == \"__main__\":\n",
    "    main()\n"
   ]
  },
  {
   "cell_type": "code",
   "execution_count": null,
   "metadata": {},
   "outputs": [],
   "source": []
  }
 ],
 "metadata": {
  "kernelspec": {
   "display_name": "Python [conda env:base] *",
   "language": "python",
   "name": "conda-base-py"
  },
  "language_info": {
   "codemirror_mode": {
    "name": "ipython",
    "version": 3
   },
   "file_extension": ".py",
   "mimetype": "text/x-python",
   "name": "python",
   "nbconvert_exporter": "python",
   "pygments_lexer": "ipython3",
   "version": "3.12.7"
  }
 },
 "nbformat": 4,
 "nbformat_minor": 4
}
