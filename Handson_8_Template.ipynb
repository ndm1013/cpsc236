{
 "cells": [
  {
   "cell_type": "markdown",
   "metadata": {},
   "source": [
    "# Strings\n",
    "\n",
    "To submit this assignment in D2l, post the link to your notebook file on your GitHub account."
   ]
  },
  {
   "cell_type": "markdown",
   "metadata": {},
   "source": [
    "## 10.1 Email Creator\n",
    "Create a program that reads a file and creates a series of emails.\n",
    "\n",
    "### Console:\n",
    "```powershell\n",
    "Email Creator\n",
    "\n",
    "================================================================\n",
    "To: jbutler@gmail.com \n",
    "From: noreply@deals.com \n",
    "Subject: Deals!\n",
    "\n",
    "Hi James,\n",
    "\n",
    "We've got some great deals for you. Check our website!\n",
    "================================================================\n",
    "To:\tjosephine_darakjy@darakjy.org \n",
    "From:\tnoreply@deals.com\n",
    "Subject: Deals! \n",
    "\n",
    "Hi Josephine,\n",
    "\n",
    "We've got some great deals for you. Check our website!\n",
    "================================================================\n",
    "To:\tart@venere.org\n",
    "From:\tnoreply@deals.com \n",
    "Subject: Deals!\n",
    "\n",
    "Hi Art,\n",
    "\n",
    "We've got some great deals for you. Check our website!\n",
    "```\n",
    "\n",
    "### Specifications:\n",
    "- Use `email.csv` file:\n",
    "- Use `email_template.txt` file:\n",
    "- When the program starts, it should read the email addresses and first names from the file, merge them into the mass email template, and display the results on the console.\n",
    "- All email addresses should be converted to **lowercase**.\n",
    "- All first names should be converted to **title case**.\n",
    "- If you add names to the list of email addresses, the program should create more emails.\n",
    "- If you modify the template, the program should change the content of the email that’s created. \n",
    "\n"
   ]
  },
  {
   "cell_type": "code",
   "execution_count": 9,
   "metadata": {},
   "outputs": [
    {
     "name": "stdout",
     "output_type": "stream",
     "text": [
      "==============================\n",
      "To:      jbutt@gmail.com\n",
      "From:    noreply@deals.com\n",
      "Subject: Deals!\n",
      "\n",
      "Hi James,\n",
      "\n",
      "We've got some great deals for you. Check our website!\n",
      "==============================\n",
      "==============================\n",
      "To:      josephine_darakjy@darakjy.org\n",
      "From:    noreply@deals.com\n",
      "Subject: Deals!\n",
      "\n",
      "Hi Josephine,\n",
      "\n",
      "We've got some great deals for you. Check our website!\n",
      "==============================\n",
      "==============================\n",
      "To:      art@venere.org\n",
      "From:    noreply@deals.com\n",
      "Subject: Deals!\n",
      "\n",
      "Hi Art,\n",
      "\n",
      "We've got some great deals for you. Check our website!\n",
      "==============================\n"
     ]
    }
   ],
   "source": [
    "### CODE HERE ###\n",
    "import csv\n",
    "\n",
    "EMAILCSV = r\"C:\\Users\\nm161\\Downloads\\email.csv\"\n",
    "EMAILTEMP = r\"C:\\Users\\nm161\\Downloads\\email_template.txt\"\n",
    "\n",
    "\n",
    "def read_email_list():\n",
    "    with open(EMAILCSV, \"r\") as file:\n",
    "        people = []\n",
    "        for line in file:\n",
    "            pieces = line.strip().split(',')\n",
    "            if len(pieces) >= 3:\n",
    "                first_name = pieces[0].strip().title()\n",
    "                last_name = pieces[1].strip().title()\n",
    "                email = pieces[2].strip().lower()\n",
    "                people.append([first_name, email])\n",
    "        return people\n",
    "\n",
    "def read_email_template():\n",
    "    with open(EMAILTEMP, \"r\") as file:\n",
    "        return file.read()\n",
    "\n",
    "\n",
    "def make_email(template, people):\n",
    "    \n",
    "    for person in people:\n",
    "        first_name = person[0]\n",
    "        email = person[1]\n",
    "        # print(email)\n",
    "        full_email = template.replace(\"{first_name}\", first_name)\n",
    "        full_email = full_email.replace(\"{email}\", email)\n",
    "        \n",
    "\n",
    "        print(\"=\" * 30)\n",
    "        print(full_email)\n",
    "        print(\"=\" * 30)\n",
    "    \n",
    "\n",
    "\n",
    "\n",
    "def main():\n",
    "    template = read_email_template()\n",
    "    people = read_email_list()\n",
    "    make_email(template, people)\n",
    "\n",
    " \n",
    "\n",
    "    \n",
    "    \n",
    "\n",
    "\n",
    "if __name__ == \"__main__\":\n",
    "    main()\n",
    "    \n",
    "\n",
    "    "
   ]
  },
  {
   "cell_type": "markdown",
   "metadata": {},
   "source": [
    "## 10.2 Pig Latin Translator\n",
    "\n",
    "Create a program that translates English to Pig Latin.\n",
    "\n",
    "### Console:\n",
    "```powershell\n",
    "Pig Latin Translator\n",
    "\n",
    "Enter text: Tis but a scratch. \n",
    "English:\ttis but a scratch\n",
    "Pig Latin:\tistay utbay away atchscray \n",
    "\n",
    "Continue? (y/n): y\n",
    "\n",
    "Enter text: We are the knights who say nee!\n",
    "English:\twe are the knights who say nee\n",
    "Pig Latin:\teway areway ethay ightsknay owhay aysay eenay \n",
    "\n",
    "Continue? (y/n): n\n",
    "\n",
    "Bye!\n",
    "```\n",
    "\n",
    "### Specifications:\n",
    "- Convert the English to lowercase before translating.\n",
    "- Remove the following punctuation characters before translating `! , ; : - . ?`\n",
    "- Assume that words are separated from each other by a single space.\n",
    "- If the word starts with a vowel, just add *way* to the end of the word.\n",
    "- If the word starts with a consonant, move all of the consonants that appear before the first vowel to the end of the word, then add *ay* to the end of the word.\n",
    "\n",
    "### Note:\n",
    "- There are no official rules for Pig Latin. Most people agree on how words that begin with consonants are translated, but there are many different ways to handle words that begin with vowels.\n"
   ]
  },
  {
   "cell_type": "code",
   "execution_count": 33,
   "metadata": {},
   "outputs": [
    {
     "name": "stdout",
     "output_type": "stream",
     "text": [
      "Pig Latin Translator\n",
      "\n"
     ]
    },
    {
     "name": "stdin",
     "output_type": "stream",
     "text": [
      "Enter Text: Tis but a scratch\n"
     ]
    },
    {
     "name": "stdout",
     "output_type": "stream",
     "text": [
      "English:\t tis but a scratch\n",
      "Pig Latin:\t istay utbay away cratchsay\n",
      "\n"
     ]
    },
    {
     "name": "stdin",
     "output_type": "stream",
     "text": [
      "Continue? (y/n): y\n"
     ]
    },
    {
     "name": "stdout",
     "output_type": "stream",
     "text": [
      "\n"
     ]
    },
    {
     "name": "stdin",
     "output_type": "stream",
     "text": [
      "Enter Text: We are the knights who say nee!\n"
     ]
    },
    {
     "name": "stdout",
     "output_type": "stream",
     "text": [
      "English:\t we are the knights who say nee\n",
      "Pig Latin:\t eway areway hetay nightskay howay aysay eenay\n",
      "\n"
     ]
    },
    {
     "name": "stdin",
     "output_type": "stream",
     "text": [
      "Continue? (y/n): n\n"
     ]
    },
    {
     "name": "stdout",
     "output_type": "stream",
     "text": [
      "Bye!\n"
     ]
    }
   ],
   "source": [
    "### CODE HERE ###\n",
    "def get_english():\n",
    "    user = input(\"Enter Text:\")\n",
    "    punctuation = \"!,;:-.?\"\n",
    "    for i in punctuation:\n",
    "        user = user.replace(i, \"\")\n",
    "        \n",
    "    user = user.lower()\n",
    "    print(\"English:\\t\", user)\n",
    "    return user\n",
    "    \n",
    "\n",
    "def get_pigLatin(english_text):\n",
    "    vowels = \"aeiou\"\n",
    "\n",
    "    words = english_text.split()\n",
    "\n",
    "    pig_latin_words = []\n",
    "    for i in words:\n",
    "        if i[0] in vowels:\n",
    "            word = i + \"way\"\n",
    "        else:\n",
    "            # move_letter = i.pop(0)\n",
    "            word = i[1:] + i[0] + \"ay\"\n",
    "        pig_latin_words.append(word)\n",
    "    print(\"Pig Latin:\\t\", \" \".join(pig_latin_words))\n",
    "\n",
    "def main():\n",
    "\n",
    "    print(\"Pig Latin Translator\")\n",
    "    \n",
    "    while True:\n",
    "        print()\n",
    "        english_text = get_english()\n",
    "        get_pigLatin(english_text)\n",
    "\n",
    "        print()\n",
    "        user = input(\"Continue? (y/n):\")\n",
    "        \n",
    "        if user == 'n' or user == 'N':\n",
    "            print(\"Bye!\")\n",
    "            break\n",
    "        \n",
    "if __name__ == \"__main__\":\n",
    "    main()\n",
    "\n",
    "\n"
   ]
  },
  {
   "cell_type": "code",
   "execution_count": null,
   "metadata": {},
   "outputs": [],
   "source": []
  }
 ],
 "metadata": {
  "kernelspec": {
   "display_name": "Python [conda env:base] *",
   "language": "python",
   "name": "conda-base-py"
  },
  "language_info": {
   "codemirror_mode": {
    "name": "ipython",
    "version": 3
   },
   "file_extension": ".py",
   "mimetype": "text/x-python",
   "name": "python",
   "nbconvert_exporter": "python",
   "pygments_lexer": "ipython3",
   "version": "3.12.7"
  }
 },
 "nbformat": 4,
 "nbformat_minor": 4
}
